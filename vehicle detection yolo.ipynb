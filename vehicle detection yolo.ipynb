{
 "cells": [
  {
   "cell_type": "markdown",
   "id": "b33f39ed",
   "metadata": {},
   "source": [
    "# Convert avi to mp4 document"
   ]
  },
  {
   "cell_type": "code",
   "execution_count": 1,
   "id": "386f2491",
   "metadata": {},
   "outputs": [
    {
     "name": "stdout",
     "output_type": "stream",
     "text": [
      "Moviepy - Building video /Users/frrookie521/Desktop/civil/project/I80.mp4.\n",
      "Moviepy - Writing video /Users/frrookie521/Desktop/civil/project/I80.mp4\n",
      "\n"
     ]
    },
    {
     "name": "stderr",
     "output_type": "stream",
     "text": [
      "                                                                                \r"
     ]
    },
    {
     "name": "stdout",
     "output_type": "stream",
     "text": [
      "Moviepy - Done !\n",
      "Moviepy - video ready /Users/frrookie521/Desktop/civil/project/I80.mp4\n"
     ]
    },
    {
     "ename": "NameError",
     "evalue": "name 'os' is not defined",
     "output_type": "error",
     "traceback": [
      "\u001b[0;31m---------------------------------------------------------------------------\u001b[0m",
      "\u001b[0;31mNameError\u001b[0m                                 Traceback (most recent call last)",
      "Cell \u001b[0;32mIn[1], line 7\u001b[0m\n\u001b[1;32m      5\u001b[0m video_clip\u001b[38;5;241m.\u001b[39mwrite_videofile(mp4_file, codec\u001b[38;5;241m=\u001b[39m\u001b[38;5;124m'\u001b[39m\u001b[38;5;124mlibx264\u001b[39m\u001b[38;5;124m'\u001b[39m)\n\u001b[1;32m      6\u001b[0m video_clip\u001b[38;5;241m.\u001b[39mclose()\n\u001b[0;32m----> 7\u001b[0m \u001b[43mos\u001b[49m\u001b[38;5;241m.\u001b[39mremove(avi_file)\n",
      "\u001b[0;31mNameError\u001b[0m: name 'os' is not defined"
     ]
    }
   ],
   "source": [
    "from moviepy.editor import VideoFileClip\n",
    "import os \n",
    "avi_file = '/Users/frrookie521/Desktop/civil/project/nb-camera1-0400pm-0415pm.avi'\n",
    "mp4_file = '/Users/frrookie521/Desktop/civil/project/I80.mp4'\n",
    "video_clip = VideoFileClip(avi_file) #create videoclip from avi_file\n",
    "video_clip.write_videofile(mp4_file, codec='libx264')\n",
    "video_clip.close()\n",
    "os.remove(avi_file)"
   ]
  },
  {
   "cell_type": "markdown",
   "id": "7b73801e",
   "metadata": {},
   "source": [
    "# yolo"
   ]
  },
  {
   "cell_type": "code",
   "execution_count": null,
   "id": "c73acb84",
   "metadata": {},
   "outputs": [],
   "source": [
    "import cv2\n",
    "import numpy as np\n",
    "from moviepy.editor import VideoFileClip\n",
    "avi_file = '/Users/frrookie521/Desktop/civil/project/nb-camera1-0400pm-0415pm.avi'\n",
    "mp4_file = '/Users/frrookie521/Desktop/civil/project/I80.mp4'\n",
    "net = cv2.dnn.readNet(\"yolov3.weights\", \"yolov3.cfg\")\n",
    "classes = []\n",
    "with open(\"coco.names\", \"r\") as f: #coco.name has a lists of classes\n",
    "    classes = f.read().strip().split(\"\\n\")\n",
    "vehicle_class_labels = [\"car\", \"truck\"] #define the labels\n",
    "cap = cv2.VideoCapture(avi_file)\n",
    "frame_width = int(cap.get(3))\n",
    "frame_height = int(cap.get(4))\n",
    "fps = int(cap.get(5))\n",
    "fourcc = cv2.VideoWriter_fourcc(*'mp4v') \n",
    "out = cv2.VideoWriter(mp4_file, fourcc, fps, (frame_width, frame_height))\n",
    "while True:\n",
    "    ret, frame = cap.read()\n",
    "    if not ret:\n",
    "        break\n",
    "    blob = cv2.dnn.blobFromImage(frame, 1/255.0, (416, 416), swapRB=True, crop=False)\n",
    "    net.setInput(blob)\n",
    "    detections = net.forward()\n",
    "    vehicle_detections = []\n",
    "    for detection in detections:\n",
    "        scores = detection[5:]\n",
    "        class_id = np.argmax(scores)\n",
    "        confidence = scores[class_id]\n",
    "        if confidence > 0.5:\n",
    "            detected_class = classes[class_id]\n",
    "            if detected_class in vehicle_class_labels:\n",
    "                vehicle_detections.append(detection)\n",
    "    for detection in vehicle_detections:\n",
    "        pass\n",
    "    out.write(frame)\n",
    "cap.release()\n",
    "out.release()\n",
    "cv2.destroyAllWindows()"
   ]
  },
  {
   "cell_type": "code",
   "execution_count": null,
   "id": "498b0854",
   "metadata": {},
   "outputs": [],
   "source": []
  }
 ],
 "metadata": {
  "kernelspec": {
   "display_name": "Python 3 (ipykernel)",
   "language": "python",
   "name": "python3"
  },
  "language_info": {
   "codemirror_mode": {
    "name": "ipython",
    "version": 3
   },
   "file_extension": ".py",
   "mimetype": "text/x-python",
   "name": "python",
   "nbconvert_exporter": "python",
   "pygments_lexer": "ipython3",
   "version": "3.9.16"
  }
 },
 "nbformat": 4,
 "nbformat_minor": 5
}
